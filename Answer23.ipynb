{
 "cells": [
  {
   "cell_type": "markdown",
   "id": "7e6e1930-f5cd-4ff1-adf8-a06f820e1f1a",
   "metadata": {},
   "source": [
    "Develop a recursive function tough() that takes two nonnegative integer arguments and outputs a pattern as shown below. Hint: The first argument represents the indentation of the pattern, where the second argument -- always a pattern of 2 indicates the number *s in the longest line of *s in the pattern"
   ]
  },
  {
   "cell_type": "code",
   "execution_count": 4,
   "id": "86d6cf80-41a7-4f01-8af9-ad0fc4ea50c1",
   "metadata": {},
   "outputs": [
    {
     "name": "stdout",
     "output_type": "stream",
     "text": [
      "f(0,0):\n",
      "\n",
      "f(0,1):\n",
      "*\n",
      "\n",
      "f(0,2):\n",
      "*\n",
      "**\n",
      "\n",
      "f(0,4):\n",
      "*\n",
      "**\n",
      " *\n",
      " **\n",
      "****\n",
      "\n",
      "f(2,6):\n",
      "  *\n",
      "  **\n",
      "   *\n",
      "   **\n",
      "    *\n",
      "    **\n",
      "   ****\n",
      "  ******\n"
     ]
    }
   ],
   "source": [
    "def tough(indent, n):\n",
    "    if n == 0:\n",
    "        return\n",
    "  \n",
    "    print(' ' * indent + '*')\n",
    "    \n",
    "    if n > 1:\n",
    "       \n",
    "        print(' ' * indent + '**')\n",
    "        \n",
    "       \n",
    "        tough(indent + 1, n - 2)\n",
    "        \n",
    "        if n > 2:\n",
    "            \n",
    "            print(' ' * indent + '*' * n)\n",
    "\n",
    "\n",
    "print(\"f(0,0):\")\n",
    "tough(0, 0)\n",
    "\n",
    "print(\"\\nf(0,1):\")\n",
    "tough(0, 1)\n",
    "\n",
    "print(\"\\nf(0,2):\")\n",
    "tough(0, 2)\n",
    "\n",
    "print(\"\\nf(0,4):\")\n",
    "tough(0, 4)\n",
    "\n",
    "print(\"\\nf(2,6):\")\n",
    "tough(2, 6)"
   ]
  },
  {
   "cell_type": "code",
   "execution_count": null,
   "id": "b32c981b-4ee3-4d4c-a8e5-2664e19794e7",
   "metadata": {},
   "outputs": [],
   "source": []
  }
 ],
 "metadata": {
  "kernelspec": {
   "display_name": "Python 3 (ipykernel)",
   "language": "python",
   "name": "python3"
  },
  "language_info": {
   "codemirror_mode": {
    "name": "ipython",
    "version": 3
   },
   "file_extension": ".py",
   "mimetype": "text/x-python",
   "name": "python",
   "nbconvert_exporter": "python",
   "pygments_lexer": "ipython3",
   "version": "3.11.7"
  }
 },
 "nbformat": 4,
 "nbformat_minor": 5
}
