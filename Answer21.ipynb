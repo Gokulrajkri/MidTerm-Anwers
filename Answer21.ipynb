{
 "cells": [
  {
   "cell_type": "markdown",
   "id": "f91a4de7-426f-4cc9-bd7a-36b9918c9297",
   "metadata": {},
   "source": [
    "_int()__: Constructor that takes as input a pair of Point objects that represent the ends points of the line segment\n",
    "Length():: returns the length if the segment \n",
    "Slope() returns the slope of the segment of none if the slope is unbounded \n",
    ">>> p1 = Point(3,4)\n",
    ">>> p2 = Point()\n",
    ">>> s = Segment(p1,p2)\n",
    ">>> s.length()\n",
    "5.0\n",
    ">>> s.slope()\n",
    "0.75\n",
    "\n",
    "\n"
   ]
  },
  {
   "cell_type": "code",
   "execution_count": 2,
   "id": "52100f54-4588-40fb-8e8d-ef2ad717ab44",
   "metadata": {},
   "outputs": [
    {
     "name": "stdout",
     "output_type": "stream",
     "text": [
      "Length: 5.0\n",
      "Slope: 1.3333333333333333\n"
     ]
    }
   ],
   "source": [
    "import math\n",
    "\n",
    "class Point:\n",
    "    def __init__(self, x=0, y=0):\n",
    "        self.x = x\n",
    "        self.y = y\n",
    "\n",
    "class Segment:\n",
    "    def __init__(self, p1, p2):\n",
    "        self.p1 = p1\n",
    "        self.p2 = p2\n",
    "    \n",
    "    def length(self):\n",
    "        return math.sqrt((self.p2.x - self.p1.x)**2 + (self.p2.y - self.p1.y)**2)\n",
    "    \n",
    "    def slope(self):\n",
    "        if self.p2.x - self.p1.x == 0:\n",
    "            return None  \n",
    "        return (self.p2.y - self.p1.y) / (self.p2.x - self.p1.x)\n",
    "\n",
    "\n",
    "p1 = Point(3, 4)\n",
    "p2 = Point(0, 0)\n",
    "s = Segment(p1, p2)\n",
    "\n",
    "print(f\"Length: {s.length()}\")\n",
    "print(f\"Slope: {s.slope()}\")\n"
   ]
  },
  {
   "cell_type": "code",
   "execution_count": null,
   "id": "4ded3afc-d1cf-46fe-bf00-7faa2843cd85",
   "metadata": {},
   "outputs": [],
   "source": []
  }
 ],
 "metadata": {
  "kernelspec": {
   "display_name": "Python 3 (ipykernel)",
   "language": "python",
   "name": "python3"
  },
  "language_info": {
   "codemirror_mode": {
    "name": "ipython",
    "version": 3
   },
   "file_extension": ".py",
   "mimetype": "text/x-python",
   "name": "python",
   "nbconvert_exporter": "python",
   "pygments_lexer": "ipython3",
   "version": "3.11.7"
  }
 },
 "nbformat": 4,
 "nbformat_minor": 5
}
